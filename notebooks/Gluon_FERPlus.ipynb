{
 "cells": [
  {
   "cell_type": "code",
   "execution_count": 1,
   "metadata": {},
   "outputs": [],
   "source": [
    "import numpy as np\n",
    "import mxnet as mx\n",
    "from mxnet import nd, autograd, gluon"
   ]
  },
  {
   "cell_type": "markdown",
   "metadata": {},
   "source": [
    "![image.png](../assets/data_prep_wf.png)"
   ]
  },
  {
   "cell_type": "markdown",
   "metadata": {},
   "source": [
    "# Raw Data - FER2013\n",
    "* https://www.kaggle.com/c/challenges-in-representation-learning-facial-expression-recognition-challenge/data\n",
    "* 48 X 48 gray scale images\n",
    "* 28,709 training samples\n",
    "* 3,589 validation data\n",
    "* 3,589 test data\n",
    "* 7 emotion labels (0=Angry, 1=Disgust, 2=Fear, 3=Happy, 4=Sad, 5=Surprise, 6=Neutral)\n",
    "* ~60-65% human accuracy in labelling\n",
    "\n",
    "![image.png](../assets/test_raw_data.png)\n",
    "\n",
    "# Data Preparation is Critical\n",
    "* State of the Art accuracy using a Convolutional Neural Network (CNN) model directly on this raw data is **63%** [1].\n",
    "* State of the Art accuracy using a slightly modified Convolutional Neural Network (CNN) model after processing the data is **83%** [2]."
   ]
  },
  {
   "cell_type": "markdown",
   "metadata": {},
   "source": [
    "# Processed Data - FER+\n",
    "\n",
    "Follow the instructions listed in the README file - https://github.com/TalkAI/facial-emotion-recognition-gluon#before-you-start\n",
    "* FER+ has new corrected labels\n",
    "* FER+ has 8 emotions - (0: 'neutral', 1: 'happiness', 2: 'surprise', 3: 'sadness', 4: 'anger', 5: 'disgust', 6: 'fear',7: 'contempt')\n",
    "* Image augmentations:\n",
    "    * Crop faces in the images – bounding box in the FER+ dataset\n",
    "    * Scale image size from 48 X 48 -> 64 X 64\n",
    "    * Shift image\n",
    "    * Flip image\n",
    "    * Rotate (angle) image\n",
    "    * Normalize the pixels in the image"
   ]
  },
  {
   "cell_type": "markdown",
   "metadata": {},
   "source": [
    "| Emotion  | Train  | Val  |  Test |\n",
    "|---|---|---|---|\n",
    "| neutral  |8733   |  1180 | 1083  |\n",
    "| happiness  | 7284  | 862  | 892  |\n",
    "| surprise  | 3136  | 411  | 394  |\n",
    "| sadness  | 3022  | 348  | 382  |\n",
    "| anger  | 2098  |  289 |  269 |\n",
    "| disgust  | 116  | 25  | 16  |\n",
    "| fear  | 536  | 60  | 86  |\n",
    "| comtempt  | 120  | 16  | 15  |"
   ]
  },
  {
   "cell_type": "code",
   "execution_count": null,
   "metadata": {},
   "outputs": [],
   "source": [
    "# 8 Emotions we want to recognize\n",
    "emotion_table = {0: 'neutral',\n",
    "                 1: 'happiness',\n",
    "                 2: 'surprise',\n",
    "                 3: 'sadness',\n",
    "                 4: 'anger',\n",
    "                 5: 'disgust',\n",
    "                 6: 'fear',\n",
    "                 7: 'contempt'}"
   ]
  },
  {
   "cell_type": "code",
   "execution_count": 3,
   "metadata": {},
   "outputs": [],
   "source": [
    "processed_train_images = np.load('../data/fer_train_processed_images.npy')\n",
    "processed_train_labels = np.load('../data/fer_train_processed_labels.npy')"
   ]
  },
  {
   "cell_type": "code",
   "execution_count": 4,
   "metadata": {},
   "outputs": [
    {
     "name": "stdout",
     "output_type": "stream",
     "text": [
      "(25045, 1, 64, 64) (25045, 8)\n"
     ]
    }
   ],
   "source": [
    "print(processed_train_images.shape, processed_train_labels.shape)"
   ]
  },
  {
   "cell_type": "code",
   "execution_count": 5,
   "metadata": {},
   "outputs": [],
   "source": [
    "from matplotlib import pyplot as plt"
   ]
  },
  {
   "cell_type": "code",
   "execution_count": 6,
   "metadata": {},
   "outputs": [
    {
     "data": {
      "text/plain": [
       "<matplotlib.image.AxesImage at 0x7fc6183808d0>"
      ]
     },
     "execution_count": 6,
     "metadata": {},
     "output_type": "execute_result"
    },
    {
     "data": {
      "image/png": "[encoded data removed]",
      "text/plain": [
       "<Figure size 432x288 with 1 Axes>"
      ]
     },
     "metadata": {},
     "output_type": "display_data"
    }
   ],
   "source": [
    "plt.imshow(processed_train_images[987].reshape(64,64), cmap='gray')"
   ]
  },
  {
   "cell_type": "code",
   "execution_count": 7,
   "metadata": {},
   "outputs": [],
   "source": [
    "processed_test_images = np.load('../data/fer_test_processed_images.npy')\n",
    "processed_test_labels = np.load('../data/fer_test_processed_labels.npy')\n",
    "processed_val_images = np.load('../data/fer_val_processed_images.npy')\n",
    "processed_val_labels = np.load('../data/fer_val_processed_labels.npy')"
   ]
  },
  {
   "cell_type": "code",
   "execution_count": 8,
   "metadata": {},
   "outputs": [
    {
     "name": "stdout",
     "output_type": "stream",
     "text": [
      "(3137, 1, 64, 64) (3137, 8)\n"
     ]
    }
   ],
   "source": [
    "print(processed_test_images.shape, processed_test_labels.shape)"
   ]
  },
  {
   "cell_type": "code",
   "execution_count": 9,
   "metadata": {},
   "outputs": [
    {
     "name": "stdout",
     "output_type": "stream",
     "text": [
      "(3191, 1, 64, 64) (3191, 8)\n"
     ]
    }
   ],
   "source": [
    "print(processed_val_images.shape, processed_val_labels.shape)"
   ]
  },
  {
   "cell_type": "code",
   "execution_count": 10,
   "metadata": {},
   "outputs": [],
   "source": [
    "# Sets context to GPU, if available. Otherwise sets to CPU.\n",
    "# Note that training on one GPU takes approx. 1.1 minute per epoch, and may take longer on CPU\n",
    "\n",
    "ctx = mx.gpu() if mx.context.num_gpus() else mx.cpu()"
   ]
  },
  {
   "cell_type": "markdown",
   "metadata": {},
   "source": [
    "![image.png](../assets/model_training_prep_wf.png)"
   ]
  },
  {
   "cell_type": "markdown",
   "metadata": {},
   "source": [
    "# Step 1 – Construct the Neural Network"
   ]
  },
  {
   "cell_type": "markdown",
   "metadata": {},
   "source": [
    "### 13 layer VGGNet presented in the paper [2]\n",
    "![image.png](../assets/network.png)"
   ]
  },
  {
   "cell_type": "code",
   "execution_count": 11,
   "metadata": {},
   "outputs": [],
   "source": [
    "# We use HybridSequential network type to able to save the trained model as symbols and params.\n",
    "# More Info - https://mxnet.incubator.apache.org/tutorials/gluon/save_load_params.html\n",
    "net = gluon.nn.HybridSequential()\n",
    "\n",
    "# Construct 13 layer VGGNet suggested in the paper\n",
    "with net.name_scope():\n",
    "    net.add(gluon.nn.Conv2D(channels=64, kernel_size=3, padding=(1,1), activation='relu'))\n",
    "    net.add(gluon.nn.Conv2D(channels=64, kernel_size=3, padding=(1,1), activation='relu'))\n",
    "    net.add(gluon.nn.MaxPool2D(pool_size=2, strides=2))\n",
    "    net.add(gluon.nn.Dropout(0.25))\n",
    "    \n",
    "    net.add(gluon.nn.Conv2D(channels=128, kernel_size=3, padding=(1,1), activation='relu'))\n",
    "    net.add(gluon.nn.Conv2D(channels=128, kernel_size=3, padding=(1,1), activation='relu'))\n",
    "    net.add(gluon.nn.MaxPool2D(pool_size=2, strides=2))\n",
    "    net.add(gluon.nn.Dropout(0.25))\n",
    "    \n",
    "    net.add(gluon.nn.Conv2D(channels=256, kernel_size=3, padding=(1,1), activation='relu'))\n",
    "    net.add(gluon.nn.Conv2D(channels=256, kernel_size=3, padding=(1,1), activation='relu'))\n",
    "    net.add(gluon.nn.Conv2D(channels=256, kernel_size=3, padding=(1,1), activation='relu'))\n",
    "    net.add(gluon.nn.MaxPool2D(pool_size=2, strides=2))\n",
    "    net.add(gluon.nn.Dropout(0.25))\n",
    "    \n",
    "    net.add(gluon.nn.Conv2D(channels=256, kernel_size=3, padding=(1,1), activation='relu'))\n",
    "    net.add(gluon.nn.Conv2D(channels=256, kernel_size=3, padding=(1,1), activation='relu'))\n",
    "    net.add(gluon.nn.Conv2D(channels=256, kernel_size=3, padding=(1,1), activation='relu'))\n",
    "    net.add(gluon.nn.MaxPool2D(pool_size=2, strides=2))\n",
    "    net.add(gluon.nn.Dropout(0.25))\n",
    "    \n",
    "    net.add(gluon.nn.Flatten())\n",
    "    net.add(gluon.nn.Dense(1024, activation='relu'))\n",
    "    net.add(gluon.nn.Dropout(0.5))\n",
    "    net.add(gluon.nn.Dense(1024, activation='relu'))\n",
    "    net.add(gluon.nn.Dropout(0.5))\n",
    "    net.add(gluon.nn.Dense(8))"
   ]
  },
  {
   "cell_type": "code",
   "execution_count": 12,
   "metadata": {},
   "outputs": [],
   "source": [
    "# We Hybridize the HybridSequential network to able to save the trained model as symbols and params.\n",
    "# More Info - https://mxnet.incubator.apache.org/tutorials/gluon/save_load_params.html\n",
    "net.hybridize()"
   ]
  },
  {
   "cell_type": "markdown",
   "metadata": {},
   "source": [
    "# Step 2 – Initialize the parameters in Neural Network"
   ]
  },
  {
   "cell_type": "code",
   "execution_count": 13,
   "metadata": {},
   "outputs": [],
   "source": [
    "net.collect_params().initialize(mx.init.Xavier(), ctx=ctx)\n",
    "nd.waitall()"
   ]
  },
  {
   "cell_type": "code",
   "execution_count": 14,
   "metadata": {},
   "outputs": [
    {
     "data": {
      "image/svg+xml": [
       "<?xml version=\"1.0\" encoding=\"UTF-8\" standalone=\"no\"?>\n",
       "<!DOCTYPE svg PUBLIC \"-//W3C//DTD SVG 1.1//EN\"\n",
       " \"http://www.w3.org/Graphics/SVG/1.1/DTD/svg11.dtd\">\n",
       "<!-- Generated by graphviz version 2.38.0 (20140413.2041)\n",
       " -->\n",
       "<!-- Title: plot Pages: 1 -->\n",
       "<svg width=\"102pt\" height=\"3450pt\"\n",
       " viewBox=\"0.00 0.00 102.00 3450.00\" xmlns=\"http://www.w3.org/2000/svg\" xmlns:xlink=\"http://www.w3.org/1999/xlink\">\n",
       "<g id=\"graph0\" class=\"graph\" transform=\"scale(1 1) rotate(0) translate(4 3446)\">\n",
       "<title>plot</title>\n",
       "<polygon fill=\"white\" stroke=\"none\" points=\"-4,4 -4,-3446 98,-3446 98,4 -4,4\"/>\n",
       "<!-- data -->\n",
       "<g id=\"node1\" class=\"node\"><title>data</title>\n",
       "<ellipse fill=\"#8dd3c7\" stroke=\"black\" cx=\"47\" cy=\"-29\" rx=\"47\" ry=\"29\"/>\n",
       "<text text-anchor=\"middle\" x=\"47\" y=\"-25.3\" font-family=\"Times,serif\" font-size=\"14.00\">data</text>\n",
       "</g>\n",
       "<!-- hybridsequential0_conv0_fwd -->\n",
       "<g id=\"node2\" class=\"node\"><title>hybridsequential0_conv0_fwd</title>\n",
       "<polygon fill=\"#fb8072\" stroke=\"black\" points=\"94,-152 -7.10543e-15,-152 -7.10543e-15,-94 94,-94 94,-152\"/>\n",
       "<text text-anchor=\"middle\" x=\"47\" y=\"-126.8\" font-family=\"Times,serif\" font-size=\"14.00\">Convolution</text>\n",
       "<text text-anchor=\"middle\" x=\"47\" y=\"-111.8\" font-family=\"Times,serif\" font-size=\"14.00\">3x3/1x1, 64</text>\n",
       "</g>\n",
       "<!-- hybridsequential0_conv0_fwd&#45;&gt;data -->\n",
       "<g id=\"edge1\" class=\"edge\"><title>hybridsequential0_conv0_fwd&#45;&gt;data</title>\n",
       "<path fill=\"none\" stroke=\"black\" d=\"M47,-83.7443C47,-75.2043 47,-66.2977 47,-58.2479\"/>\n",
       "<polygon fill=\"black\" stroke=\"black\" points=\"47,-93.8971 42.5001,-83.897 47,-88.8971 47.0001,-83.8971 47.0001,-83.8971 47.0001,-83.8971 47,-88.8971 51.5001,-83.8971 47,-93.8971 47,-93.8971\"/>\n",
       "</g>\n",
       "<!-- hybridsequential0_conv0_relu_fwd -->\n",
       "<g id=\"node3\" class=\"node\"><title>hybridsequential0_conv0_relu_fwd</title>\n",
       "<polygon fill=\"#ffffb3\" stroke=\"black\" points=\"94,-246 -7.10543e-15,-246 -7.10543e-15,-188 94,-188 94,-246\"/>\n",
       "<text text-anchor=\"middle\" x=\"47\" y=\"-220.8\" font-family=\"Times,serif\" font-size=\"14.00\">Activation</text>\n",
       "<text text-anchor=\"middle\" x=\"47\" y=\"-205.8\" font-family=\"Times,serif\" font-size=\"14.00\">relu</text>\n",
       "</g>\n",
       "<!-- hybridsequential0_conv0_relu_fwd&#45;&gt;hybridsequential0_conv0_fwd -->\n",
       "<g id=\"edge2\" class=\"edge\"><title>hybridsequential0_conv0_relu_fwd&#45;&gt;hybridsequential0_conv0_fwd</title>\n",
       "<path fill=\"none\" stroke=\"black\" d=\"M47,-177.744C47,-169.204 47,-160.298 47,-152.248\"/>\n",
       "<polygon fill=\"black\" stroke=\"black\" points=\"47,-187.897 42.5001,-177.897 47,-182.897 47.0001,-177.897 47.0001,-177.897 47.0001,-177.897 47,-182.897 51.5001,-177.897 47,-187.897 47,-187.897\"/>\n",
       "</g>\n",
       "<!-- hybridsequential0_conv1_fwd -->\n",
       "<g id=\"node4\" class=\"node\"><title>hybridsequential0_conv1_fwd</title>\n",
       "<polygon fill=\"#fb8072\" stroke=\"black\" points=\"94,-340 -7.10543e-15,-340 -7.10543e-15,-282 94,-282 94,-340\"/>\n",
       "<text text-anchor=\"middle\" x=\"47\" y=\"-314.8\" font-family=\"Times,serif\" font-size=\"14.00\">Convolution</text>\n",
       "<text text-anchor=\"middle\" x=\"47\" y=\"-299.8\" font-family=\"Times,serif\" font-size=\"14.00\">3x3/1x1, 64</text>\n",
       "</g>\n",
       "<!-- hybridsequential0_conv1_fwd&#45;&gt;hybridsequential0_conv0_relu_fwd -->\n",
       "<g id=\"edge3\" class=\"edge\"><title>hybridsequential0_conv1_fwd&#45;&gt;hybridsequential0_conv0_relu_fwd</title>\n",
       "<path fill=\"none\" stroke=\"black\" d=\"M47,-271.744C47,-263.204 47,-254.298 47,-246.248\"/>\n",
       "<polygon fill=\"black\" stroke=\"black\" points=\"47,-281.897 42.5001,-271.897 47,-276.897 47.0001,-271.897 47.0001,-271.897 47.0001,-271.897 47,-276.897 51.5001,-271.897 47,-281.897 47,-281.897\"/>\n",
       "</g>\n",
       "<!-- hybridsequential0_conv1_relu_fwd -->\n",
       "<g id=\"node5\" class=\"node\"><title>hybridsequential0_conv1_relu_fwd</title>\n",
       "<polygon fill=\"#ffffb3\" stroke=\"black\" points=\"94,-434 -7.10543e-15,-434 -7.10543e-15,-376 94,-376 94,-434\"/>\n",
       "<text text-anchor=\"middle\" x=\"47\" y=\"-408.8\" font-family=\"Times,serif\" font-size=\"14.00\">Activation</text>\n",
       "<text text-anchor=\"middle\" x=\"47\" y=\"-393.8\" font-family=\"Times,serif\" font-size=\"14.00\">relu</text>\n",
       "</g>\n",
       "<!-- hybridsequential0_conv1_relu_fwd&#45;&gt;hybridsequential0_conv1_fwd -->\n",
       "<g id=\"edge4\" class=\"edge\"><title>hybridsequential0_conv1_relu_fwd&#45;&gt;hybridsequential0_conv1_fwd</title>\n",
       "<path fill=\"none\" stroke=\"black\" d=\"M47,-365.744C47,-357.204 47,-348.298 47,-340.248\"/>\n",
       "<polygon fill=\"black\" stroke=\"black\" points=\"47,-375.897 42.5001,-365.897 47,-370.897 47.0001,-365.897 47.0001,-365.897 47.0001,-365.897 47,-370.897 51.5001,-365.897 47,-375.897 47,-375.897\"/>\n",
       "</g>\n",
       "<!-- hybridsequential0_pool0_fwd -->\n",
       "<g id=\"node6\" class=\"node\"><title>hybridsequential0_pool0_fwd</title>\n",
       "<polygon fill=\"#80b1d3\" stroke=\"black\" points=\"94,-528 -7.10543e-15,-528 -7.10543e-15,-470 94,-470 94,-528\"/>\n",
       "<text text-anchor=\"middle\" x=\"47\" y=\"-502.8\" font-family=\"Times,serif\" font-size=\"14.00\">Pooling</text>\n",
       "<text text-anchor=\"middle\" x=\"47\" y=\"-487.8\" font-family=\"Times,serif\" font-size=\"14.00\">max, 2x2/2x2</text>\n",
       "</g>\n",
       "<!-- hybridsequential0_pool0_fwd&#45;&gt;hybridsequential0_conv1_relu_fwd -->\n",
       "<g id=\"edge5\" class=\"edge\"><title>hybridsequential0_pool0_fwd&#45;&gt;hybridsequential0_conv1_relu_fwd</title>\n",
       "<path fill=\"none\" stroke=\"black\" d=\"M47,-459.744C47,-451.204 47,-442.298 47,-434.248\"/>\n",
       "<polygon fill=\"black\" stroke=\"black\" points=\"47,-469.897 42.5001,-459.897 47,-464.897 47.0001,-459.897 47.0001,-459.897 47.0001,-459.897 47,-464.897 51.5001,-459.897 47,-469.897 47,-469.897\"/>\n",
       "</g>\n",
       "<!-- hybridsequential0_dropout0_fwd -->\n",
       "<g id=\"node7\" class=\"node\"><title>hybridsequential0_dropout0_fwd</title>\n",
       "<polygon fill=\"#fccde5\" stroke=\"black\" points=\"94,-622 -7.10543e-15,-622 -7.10543e-15,-564 94,-564 94,-622\"/>\n",
       "<text text-anchor=\"middle\" x=\"47\" y=\"-589.3\" font-family=\"Times,serif\" font-size=\"14.00\">hybridsequential0_dropout0_fwd</text>\n",
       "</g>\n",
       "<!-- hybridsequential0_dropout0_fwd&#45;&gt;hybridsequential0_pool0_fwd -->\n",
       "<g id=\"edge6\" class=\"edge\"><title>hybridsequential0_dropout0_fwd&#45;&gt;hybridsequential0_pool0_fwd</title>\n",
       "<path fill=\"none\" stroke=\"black\" d=\"M47,-553.744C47,-545.204 47,-536.298 47,-528.248\"/>\n",
       "<polygon fill=\"black\" stroke=\"black\" points=\"47,-563.897 42.5001,-553.897 47,-558.897 47.0001,-553.897 47.0001,-553.897 47.0001,-553.897 47,-558.897 51.5001,-553.897 47,-563.897 47,-563.897\"/>\n",
       "</g>\n",
       "<!-- hybridsequential0_conv2_fwd -->\n",
       "<g id=\"node8\" class=\"node\"><title>hybridsequential0_conv2_fwd</title>\n",
       "<polygon fill=\"#fb8072\" stroke=\"black\" points=\"94,-716 -7.10543e-15,-716 -7.10543e-15,-658 94,-658 94,-716\"/>\n",
       "<text text-anchor=\"middle\" x=\"47\" y=\"-690.8\" font-family=\"Times,serif\" font-size=\"14.00\">Convolution</text>\n",
       "<text text-anchor=\"middle\" x=\"47\" y=\"-675.8\" font-family=\"Times,serif\" font-size=\"14.00\">3x3/1x1, 128</text>\n",
       "</g>\n",
       "<!-- hybridsequential0_conv2_fwd&#45;&gt;hybridsequential0_dropout0_fwd -->\n",
       "<g id=\"edge7\" class=\"edge\"><title>hybridsequential0_conv2_fwd&#45;&gt;hybridsequential0_dropout0_fwd</title>\n",
       "<path fill=\"none\" stroke=\"black\" d=\"M47,-647.744C47,-639.204 47,-630.298 47,-622.248\"/>\n",
       "<polygon fill=\"black\" stroke=\"black\" points=\"47,-657.897 42.5001,-647.897 47,-652.897 47.0001,-647.897 47.0001,-647.897 47.0001,-647.897 47,-652.897 51.5001,-647.897 47,-657.897 47,-657.897\"/>\n",
       "</g>\n",
       "<!-- hybridsequential0_conv2_relu_fwd -->\n",
       "<g id=\"node9\" class=\"node\"><title>hybridsequential0_conv2_relu_fwd</title>\n",
       "<polygon fill=\"#ffffb3\" stroke=\"black\" points=\"94,-810 -7.10543e-15,-810 -7.10543e-15,-752 94,-752 94,-810\"/>\n",
       "<text text-anchor=\"middle\" x=\"47\" y=\"-784.8\" font-family=\"Times,serif\" font-size=\"14.00\">Activation</text>\n",
       "<text text-anchor=\"middle\" x=\"47\" y=\"-769.8\" font-family=\"Times,serif\" font-size=\"14.00\">relu</text>\n",
       "</g>\n",
       "<!-- hybridsequential0_conv2_relu_fwd&#45;&gt;hybridsequential0_conv2_fwd -->\n",
       "<g id=\"edge8\" class=\"edge\"><title>hybridsequential0_conv2_relu_fwd&#45;&gt;hybridsequential0_conv2_fwd</title>\n",
       "<path fill=\"none\" stroke=\"black\" d=\"M47,-741.744C47,-733.204 47,-724.298 47,-716.248\"/>\n",
       "<polygon fill=\"black\" stroke=\"black\" points=\"47,-751.897 42.5001,-741.897 47,-746.897 47.0001,-741.897 47.0001,-741.897 47.0001,-741.897 47,-746.897 51.5001,-741.897 47,-751.897 47,-751.897\"/>\n",
       "</g>\n",
       "<!-- hybridsequential0_conv3_fwd -->\n",
       "<g id=\"node10\" class=\"node\"><title>hybridsequential0_conv3_fwd</title>\n",
       "<polygon fill=\"#fb8072\" stroke=\"black\" points=\"94,-904 -7.10543e-15,-904 -7.10543e-15,-846 94,-846 94,-904\"/>\n",
       "<text text-anchor=\"middle\" x=\"47\" y=\"-878.8\" font-family=\"Times,serif\" font-size=\"14.00\">Convolution</text>\n",
       "<text text-anchor=\"middle\" x=\"47\" y=\"-863.8\" font-family=\"Times,serif\" font-size=\"14.00\">3x3/1x1, 128</text>\n",
       "</g>\n",
       "<!-- hybridsequential0_conv3_fwd&#45;&gt;hybridsequential0_conv2_relu_fwd -->\n",
       "<g id=\"edge9\" class=\"edge\"><title>hybridsequential0_conv3_fwd&#45;&gt;hybridsequential0_conv2_relu_fwd</title>\n",
       "<path fill=\"none\" stroke=\"black\" d=\"M47,-835.744C47,-827.204 47,-818.298 47,-810.248\"/>\n",
       "<polygon fill=\"black\" stroke=\"black\" points=\"47,-845.897 42.5001,-835.897 47,-840.897 47.0001,-835.897 47.0001,-835.897 47.0001,-835.897 47,-840.897 51.5001,-835.897 47,-845.897 47,-845.897\"/>\n",
       "</g>\n",
       "<!-- hybridsequential0_conv3_relu_fwd -->\n",
       "<g id=\"node11\" class=\"node\"><title>hybridsequential0_conv3_relu_fwd</title>\n",
       "<polygon fill=\"#ffffb3\" stroke=\"black\" points=\"94,-998 -7.10543e-15,-998 -7.10543e-15,-940 94,-940 94,-998\"/>\n",
       "<text text-anchor=\"middle\" x=\"47\" y=\"-972.8\" font-family=\"Times,serif\" font-size=\"14.00\">Activation</text>\n",
       "<text text-anchor=\"middle\" x=\"47\" y=\"-957.8\" font-family=\"Times,serif\" font-size=\"14.00\">relu</text>\n",
       "</g>\n",
       "<!-- hybridsequential0_conv3_relu_fwd&#45;&gt;hybridsequential0_conv3_fwd -->\n",
       "<g id=\"edge10\" class=\"edge\"><title>hybridsequential0_conv3_relu_fwd&#45;&gt;hybridsequential0_conv3_fwd</title>\n",
       "<path fill=\"none\" stroke=\"black\" d=\"M47,-929.744C47,-921.204 47,-912.298 47,-904.248\"/>\n",
       "<polygon fill=\"black\" stroke=\"black\" points=\"47,-939.897 42.5001,-929.897 47,-934.897 47.0001,-929.897 47.0001,-929.897 47.0001,-929.897 47,-934.897 51.5001,-929.897 47,-939.897 47,-939.897\"/>\n",
       "</g>\n",
       "<!-- hybridsequential0_pool1_fwd -->\n",
       "<g id=\"node12\" class=\"node\"><title>hybridsequential0_pool1_fwd</title>\n",
       "<polygon fill=\"#80b1d3\" stroke=\"black\" points=\"94,-1092 -7.10543e-15,-1092 -7.10543e-15,-1034 94,-1034 94,-1092\"/>\n",
       "<text text-anchor=\"middle\" x=\"47\" y=\"-1066.8\" font-family=\"Times,serif\" font-size=\"14.00\">Pooling</text>\n",
       "<text text-anchor=\"middle\" x=\"47\" y=\"-1051.8\" font-family=\"Times,serif\" font-size=\"14.00\">max, 2x2/2x2</text>\n",
       "</g>\n",
       "<!-- hybridsequential0_pool1_fwd&#45;&gt;hybridsequential0_conv3_relu_fwd -->\n",
       "<g id=\"edge11\" class=\"edge\"><title>hybridsequential0_pool1_fwd&#45;&gt;hybridsequential0_conv3_relu_fwd</title>\n",
       "<path fill=\"none\" stroke=\"black\" d=\"M47,-1023.74C47,-1015.2 47,-1006.3 47,-998.248\"/>\n",
       "<polygon fill=\"black\" stroke=\"black\" points=\"47,-1033.9 42.5001,-1023.9 47,-1028.9 47.0001,-1023.9 47.0001,-1023.9 47.0001,-1023.9 47,-1028.9 51.5001,-1023.9 47,-1033.9 47,-1033.9\"/>\n",
       "</g>\n",
       "<!-- hybridsequential0_dropout1_fwd -->\n",
       "<g id=\"node13\" class=\"node\"><title>hybridsequential0_dropout1_fwd</title>\n",
       "<polygon fill=\"#fccde5\" stroke=\"black\" points=\"94,-1186 -7.10543e-15,-1186 -7.10543e-15,-1128 94,-1128 94,-1186\"/>\n",
       "<text text-anchor=\"middle\" x=\"47\" y=\"-1153.3\" font-family=\"Times,serif\" font-size=\"14.00\">hybridsequential0_dropout1_fwd</text>\n",
       "</g>\n",
       "<!-- hybridsequential0_dropout1_fwd&#45;&gt;hybridsequential0_pool1_fwd -->\n",
       "<g id=\"edge12\" class=\"edge\"><title>hybridsequential0_dropout1_fwd&#45;&gt;hybridsequential0_pool1_fwd</title>\n",
       "<path fill=\"none\" stroke=\"black\" d=\"M47,-1117.74C47,-1109.2 47,-1100.3 47,-1092.25\"/>\n",
       "<polygon fill=\"black\" stroke=\"black\" points=\"47,-1127.9 42.5001,-1117.9 47,-1122.9 47.0001,-1117.9 47.0001,-1117.9 47.0001,-1117.9 47,-1122.9 51.5001,-1117.9 47,-1127.9 47,-1127.9\"/>\n",
       "</g>\n",
       "<!-- hybridsequential0_conv4_fwd -->\n",
       "<g id=\"node14\" class=\"node\"><title>hybridsequential0_conv4_fwd</title>\n",
       "<polygon fill=\"#fb8072\" stroke=\"black\" points=\"94,-1280 -7.10543e-15,-1280 -7.10543e-15,-1222 94,-1222 94,-1280\"/>\n",
       "<text text-anchor=\"middle\" x=\"47\" y=\"-1254.8\" font-family=\"Times,serif\" font-size=\"14.00\">Convolution</text>\n",
       "<text text-anchor=\"middle\" x=\"47\" y=\"-1239.8\" font-family=\"Times,serif\" font-size=\"14.00\">3x3/1x1, 256</text>\n",
       "</g>\n",
       "<!-- hybridsequential0_conv4_fwd&#45;&gt;hybridsequential0_dropout1_fwd -->\n",
       "<g id=\"edge13\" class=\"edge\"><title>hybridsequential0_conv4_fwd&#45;&gt;hybridsequential0_dropout1_fwd</title>\n",
       "<path fill=\"none\" stroke=\"black\" d=\"M47,-1211.74C47,-1203.2 47,-1194.3 47,-1186.25\"/>\n",
       "<polygon fill=\"black\" stroke=\"black\" points=\"47,-1221.9 42.5001,-1211.9 47,-1216.9 47.0001,-1211.9 47.0001,-1211.9 47.0001,-1211.9 47,-1216.9 51.5001,-1211.9 47,-1221.9 47,-1221.9\"/>\n",
       "</g>\n",
       "<!-- hybridsequential0_conv4_relu_fwd -->\n",
       "<g id=\"node15\" class=\"node\"><title>hybridsequential0_conv4_relu_fwd</title>\n",
       "<polygon fill=\"#ffffb3\" stroke=\"black\" points=\"94,-1374 -7.10543e-15,-1374 -7.10543e-15,-1316 94,-1316 94,-1374\"/>\n",
       "<text text-anchor=\"middle\" x=\"47\" y=\"-1348.8\" font-family=\"Times,serif\" font-size=\"14.00\">Activation</text>\n",
       "<text text-anchor=\"middle\" x=\"47\" y=\"-1333.8\" font-family=\"Times,serif\" font-size=\"14.00\">relu</text>\n",
       "</g>\n",
       "<!-- hybridsequential0_conv4_relu_fwd&#45;&gt;hybridsequential0_conv4_fwd -->\n",
       "<g id=\"edge14\" class=\"edge\"><title>hybridsequential0_conv4_relu_fwd&#45;&gt;hybridsequential0_conv4_fwd</title>\n",
       "<path fill=\"none\" stroke=\"black\" d=\"M47,-1305.74C47,-1297.2 47,-1288.3 47,-1280.25\"/>\n",
       "<polygon fill=\"black\" stroke=\"black\" points=\"47,-1315.9 42.5001,-1305.9 47,-1310.9 47.0001,-1305.9 47.0001,-1305.9 47.0001,-1305.9 47,-1310.9 51.5001,-1305.9 47,-1315.9 47,-1315.9\"/>\n",
       "</g>\n",
       "<!-- hybridsequential0_conv5_fwd -->\n",
       "<g id=\"node16\" class=\"node\"><title>hybridsequential0_conv5_fwd</title>\n",
       "<polygon fill=\"#fb8072\" stroke=\"black\" points=\"94,-1468 -7.10543e-15,-1468 -7.10543e-15,-1410 94,-1410 94,-1468\"/>\n",
       "<text text-anchor=\"middle\" x=\"47\" y=\"-1442.8\" font-family=\"Times,serif\" font-size=\"14.00\">Convolution</text>\n",
       "<text text-anchor=\"middle\" x=\"47\" y=\"-1427.8\" font-family=\"Times,serif\" font-size=\"14.00\">3x3/1x1, 256</text>\n",
       "</g>\n",
       "<!-- hybridsequential0_conv5_fwd&#45;&gt;hybridsequential0_conv4_relu_fwd -->\n",
       "<g id=\"edge15\" class=\"edge\"><title>hybridsequential0_conv5_fwd&#45;&gt;hybridsequential0_conv4_relu_fwd</title>\n",
       "<path fill=\"none\" stroke=\"black\" d=\"M47,-1399.74C47,-1391.2 47,-1382.3 47,-1374.25\"/>\n",
       "<polygon fill=\"black\" stroke=\"black\" points=\"47,-1409.9 42.5001,-1399.9 47,-1404.9 47.0001,-1399.9 47.0001,-1399.9 47.0001,-1399.9 47,-1404.9 51.5001,-1399.9 47,-1409.9 47,-1409.9\"/>\n",
       "</g>\n",
       "<!-- hybridsequential0_conv5_relu_fwd -->\n",
       "<g id=\"node17\" class=\"node\"><title>hybridsequential0_conv5_relu_fwd</title>\n",
       "<polygon fill=\"#ffffb3\" stroke=\"black\" points=\"94,-1562 -7.10543e-15,-1562 -7.10543e-15,-1504 94,-1504 94,-1562\"/>\n",
       "<text text-anchor=\"middle\" x=\"47\" y=\"-1536.8\" font-family=\"Times,serif\" font-size=\"14.00\">Activation</text>\n",
       "<text text-anchor=\"middle\" x=\"47\" y=\"-1521.8\" font-family=\"Times,serif\" font-size=\"14.00\">relu</text>\n",
       "</g>\n",
       "<!-- hybridsequential0_conv5_relu_fwd&#45;&gt;hybridsequential0_conv5_fwd -->\n",
       "<g id=\"edge16\" class=\"edge\"><title>hybridsequential0_conv5_relu_fwd&#45;&gt;hybridsequential0_conv5_fwd</title>\n",
       "<path fill=\"none\" stroke=\"black\" d=\"M47,-1493.74C47,-1485.2 47,-1476.3 47,-1468.25\"/>\n",
       "<polygon fill=\"black\" stroke=\"black\" points=\"47,-1503.9 42.5001,-1493.9 47,-1498.9 47.0001,-1493.9 47.0001,-1493.9 47.0001,-1493.9 47,-1498.9 51.5001,-1493.9 47,-1503.9 47,-1503.9\"/>\n",
       "</g>\n",
       "<!-- hybridsequential0_conv6_fwd -->\n",
       "<g id=\"node18\" class=\"node\"><title>hybridsequential0_conv6_fwd</title>\n",
       "<polygon fill=\"#fb8072\" stroke=\"black\" points=\"94,-1656 -7.10543e-15,-1656 -7.10543e-15,-1598 94,-1598 94,-1656\"/>\n",
       "<text text-anchor=\"middle\" x=\"47\" y=\"-1630.8\" font-family=\"Times,serif\" font-size=\"14.00\">Convolution</text>\n",
       "<text text-anchor=\"middle\" x=\"47\" y=\"-1615.8\" font-family=\"Times,serif\" font-size=\"14.00\">3x3/1x1, 256</text>\n",
       "</g>\n",
       "<!-- hybridsequential0_conv6_fwd&#45;&gt;hybridsequential0_conv5_relu_fwd -->\n",
       "<g id=\"edge17\" class=\"edge\"><title>hybridsequential0_conv6_fwd&#45;&gt;hybridsequential0_conv5_relu_fwd</title>\n",
       "<path fill=\"none\" stroke=\"black\" d=\"M47,-1587.74C47,-1579.2 47,-1570.3 47,-1562.25\"/>\n",
       "<polygon fill=\"black\" stroke=\"black\" points=\"47,-1597.9 42.5001,-1587.9 47,-1592.9 47.0001,-1587.9 47.0001,-1587.9 47.0001,-1587.9 47,-1592.9 51.5001,-1587.9 47,-1597.9 47,-1597.9\"/>\n",
       "</g>\n",
       "<!-- hybridsequential0_conv6_relu_fwd -->\n",
       "<g id=\"node19\" class=\"node\"><title>hybridsequential0_conv6_relu_fwd</title>\n",
       "<polygon fill=\"#ffffb3\" stroke=\"black\" points=\"94,-1750 -7.10543e-15,-1750 -7.10543e-15,-1692 94,-1692 94,-1750\"/>\n",
       "<text text-anchor=\"middle\" x=\"47\" y=\"-1724.8\" font-family=\"Times,serif\" font-size=\"14.00\">Activation</text>\n",
       "<text text-anchor=\"middle\" x=\"47\" y=\"-1709.8\" font-family=\"Times,serif\" font-size=\"14.00\">relu</text>\n",
       "</g>\n",
       "<!-- hybridsequential0_conv6_relu_fwd&#45;&gt;hybridsequential0_conv6_fwd -->\n",
       "<g id=\"edge18\" class=\"edge\"><title>hybridsequential0_conv6_relu_fwd&#45;&gt;hybridsequential0_conv6_fwd</title>\n",
       "<path fill=\"none\" stroke=\"black\" d=\"M47,-1681.74C47,-1673.2 47,-1664.3 47,-1656.25\"/>\n",
       "<polygon fill=\"black\" stroke=\"black\" points=\"47,-1691.9 42.5001,-1681.9 47,-1686.9 47.0001,-1681.9 47.0001,-1681.9 47.0001,-1681.9 47,-1686.9 51.5001,-1681.9 47,-1691.9 47,-1691.9\"/>\n",
       "</g>\n",
       "<!-- hybridsequential0_pool2_fwd -->\n",
       "<g id=\"node20\" class=\"node\"><title>hybridsequential0_pool2_fwd</title>\n",
       "<polygon fill=\"#80b1d3\" stroke=\"black\" points=\"94,-1844 -7.10543e-15,-1844 -7.10543e-15,-1786 94,-1786 94,-1844\"/>\n",
       "<text text-anchor=\"middle\" x=\"47\" y=\"-1818.8\" font-family=\"Times,serif\" font-size=\"14.00\">Pooling</text>\n",
       "<text text-anchor=\"middle\" x=\"47\" y=\"-1803.8\" font-family=\"Times,serif\" font-size=\"14.00\">max, 2x2/2x2</text>\n",
       "</g>\n",
       "<!-- hybridsequential0_pool2_fwd&#45;&gt;hybridsequential0_conv6_relu_fwd -->\n",
       "<g id=\"edge19\" class=\"edge\"><title>hybridsequential0_pool2_fwd&#45;&gt;hybridsequential0_conv6_relu_fwd</title>\n",
       "<path fill=\"none\" stroke=\"black\" d=\"M47,-1775.74C47,-1767.2 47,-1758.3 47,-1750.25\"/>\n",
       "<polygon fill=\"black\" stroke=\"black\" points=\"47,-1785.9 42.5001,-1775.9 47,-1780.9 47.0001,-1775.9 47.0001,-1775.9 47.0001,-1775.9 47,-1780.9 51.5001,-1775.9 47,-1785.9 47,-1785.9\"/>\n",
       "</g>\n",
       "<!-- hybridsequential0_dropout2_fwd -->\n",
       "<g id=\"node21\" class=\"node\"><title>hybridsequential0_dropout2_fwd</title>\n",
       "<polygon fill=\"#fccde5\" stroke=\"black\" points=\"94,-1938 -7.10543e-15,-1938 -7.10543e-15,-1880 94,-1880 94,-1938\"/>\n",
       "<text text-anchor=\"middle\" x=\"47\" y=\"-1905.3\" font-family=\"Times,serif\" font-size=\"14.00\">hybridsequential0_dropout2_fwd</text>\n",
       "</g>\n",
       "<!-- hybridsequential0_dropout2_fwd&#45;&gt;hybridsequential0_pool2_fwd -->\n",
       "<g id=\"edge20\" class=\"edge\"><title>hybridsequential0_dropout2_fwd&#45;&gt;hybridsequential0_pool2_fwd</title>\n",
       "<path fill=\"none\" stroke=\"black\" d=\"M47,-1869.74C47,-1861.2 47,-1852.3 47,-1844.25\"/>\n",
       "<polygon fill=\"black\" stroke=\"black\" points=\"47,-1879.9 42.5001,-1869.9 47,-1874.9 47.0001,-1869.9 47.0001,-1869.9 47.0001,-1869.9 47,-1874.9 51.5001,-1869.9 47,-1879.9 47,-1879.9\"/>\n",
       "</g>\n",
       "<!-- hybridsequential0_conv7_fwd -->\n",
       "<g id=\"node22\" class=\"node\"><title>hybridsequential0_conv7_fwd</title>\n",
       "<polygon fill=\"#fb8072\" stroke=\"black\" points=\"94,-2032 -7.10543e-15,-2032 -7.10543e-15,-1974 94,-1974 94,-2032\"/>\n",
       "<text text-anchor=\"middle\" x=\"47\" y=\"-2006.8\" font-family=\"Times,serif\" font-size=\"14.00\">Convolution</text>\n",
       "<text text-anchor=\"middle\" x=\"47\" y=\"-1991.8\" font-family=\"Times,serif\" font-size=\"14.00\">3x3/1x1, 256</text>\n",
       "</g>\n",
       "<!-- hybridsequential0_conv7_fwd&#45;&gt;hybridsequential0_dropout2_fwd -->\n",
       "<g id=\"edge21\" class=\"edge\"><title>hybridsequential0_conv7_fwd&#45;&gt;hybridsequential0_dropout2_fwd</title>\n",
       "<path fill=\"none\" stroke=\"black\" d=\"M47,-1963.74C47,-1955.2 47,-1946.3 47,-1938.25\"/>\n",
       "<polygon fill=\"black\" stroke=\"black\" points=\"47,-1973.9 42.5001,-1963.9 47,-1968.9 47.0001,-1963.9 47.0001,-1963.9 47.0001,-1963.9 47,-1968.9 51.5001,-1963.9 47,-1973.9 47,-1973.9\"/>\n",
       "</g>\n",
       "<!-- hybridsequential0_conv7_relu_fwd -->\n",
       "<g id=\"node23\" class=\"node\"><title>hybridsequential0_conv7_relu_fwd</title>\n",
       "<polygon fill=\"#ffffb3\" stroke=\"black\" points=\"94,-2126 -7.10543e-15,-2126 -7.10543e-15,-2068 94,-2068 94,-2126\"/>\n",
       "<text text-anchor=\"middle\" x=\"47\" y=\"-2100.8\" font-family=\"Times,serif\" font-size=\"14.00\">Activation</text>\n",
       "<text text-anchor=\"middle\" x=\"47\" y=\"-2085.8\" font-family=\"Times,serif\" font-size=\"14.00\">relu</text>\n",
       "</g>\n",
       "<!-- hybridsequential0_conv7_relu_fwd&#45;&gt;hybridsequential0_conv7_fwd -->\n",
       "<g id=\"edge22\" class=\"edge\"><title>hybridsequential0_conv7_relu_fwd&#45;&gt;hybridsequential0_conv7_fwd</title>\n",
       "<path fill=\"none\" stroke=\"black\" d=\"M47,-2057.74C47,-2049.2 47,-2040.3 47,-2032.25\"/>\n",
       "<polygon fill=\"black\" stroke=\"black\" points=\"47,-2067.9 42.5001,-2057.9 47,-2062.9 47.0001,-2057.9 47.0001,-2057.9 47.0001,-2057.9 47,-2062.9 51.5001,-2057.9 47,-2067.9 47,-2067.9\"/>\n",
       "</g>\n",
       "<!-- hybridsequential0_conv8_fwd -->\n",
       "<g id=\"node24\" class=\"node\"><title>hybridsequential0_conv8_fwd</title>\n",
       "<polygon fill=\"#fb8072\" stroke=\"black\" points=\"94,-2220 -7.10543e-15,-2220 -7.10543e-15,-2162 94,-2162 94,-2220\"/>\n",
       "<text text-anchor=\"middle\" x=\"47\" y=\"-2194.8\" font-family=\"Times,serif\" font-size=\"14.00\">Convolution</text>\n",
       "<text text-anchor=\"middle\" x=\"47\" y=\"-2179.8\" font-family=\"Times,serif\" font-size=\"14.00\">3x3/1x1, 256</text>\n",
       "</g>\n",
       "<!-- hybridsequential0_conv8_fwd&#45;&gt;hybridsequential0_conv7_relu_fwd -->\n",
       "<g id=\"edge23\" class=\"edge\"><title>hybridsequential0_conv8_fwd&#45;&gt;hybridsequential0_conv7_relu_fwd</title>\n",
       "<path fill=\"none\" stroke=\"black\" d=\"M47,-2151.74C47,-2143.2 47,-2134.3 47,-2126.25\"/>\n",
       "<polygon fill=\"black\" stroke=\"black\" points=\"47,-2161.9 42.5001,-2151.9 47,-2156.9 47.0001,-2151.9 47.0001,-2151.9 47.0001,-2151.9 47,-2156.9 51.5001,-2151.9 47,-2161.9 47,-2161.9\"/>\n",
       "</g>\n",
       "<!-- hybridsequential0_conv8_relu_fwd -->\n",
       "<g id=\"node25\" class=\"node\"><title>hybridsequential0_conv8_relu_fwd</title>\n",
       "<polygon fill=\"#ffffb3\" stroke=\"black\" points=\"94,-2314 -7.10543e-15,-2314 -7.10543e-15,-2256 94,-2256 94,-2314\"/>\n",
       "<text text-anchor=\"middle\" x=\"47\" y=\"-2288.8\" font-family=\"Times,serif\" font-size=\"14.00\">Activation</text>\n",
       "<text text-anchor=\"middle\" x=\"47\" y=\"-2273.8\" font-family=\"Times,serif\" font-size=\"14.00\">relu</text>\n",
       "</g>\n",
       "<!-- hybridsequential0_conv8_relu_fwd&#45;&gt;hybridsequential0_conv8_fwd -->\n",
       "<g id=\"edge24\" class=\"edge\"><title>hybridsequential0_conv8_relu_fwd&#45;&gt;hybridsequential0_conv8_fwd</title>\n",
       "<path fill=\"none\" stroke=\"black\" d=\"M47,-2245.74C47,-2237.2 47,-2228.3 47,-2220.25\"/>\n",
       "<polygon fill=\"black\" stroke=\"black\" points=\"47,-2255.9 42.5001,-2245.9 47,-2250.9 47.0001,-2245.9 47.0001,-2245.9 47.0001,-2245.9 47,-2250.9 51.5001,-2245.9 47,-2255.9 47,-2255.9\"/>\n",
       "</g>\n",
       "<!-- hybridsequential0_conv9_fwd -->\n",
       "<g id=\"node26\" class=\"node\"><title>hybridsequential0_conv9_fwd</title>\n",
       "<polygon fill=\"#fb8072\" stroke=\"black\" points=\"94,-2408 -7.10543e-15,-2408 -7.10543e-15,-2350 94,-2350 94,-2408\"/>\n",
       "<text text-anchor=\"middle\" x=\"47\" y=\"-2382.8\" font-family=\"Times,serif\" font-size=\"14.00\">Convolution</text>\n",
       "<text text-anchor=\"middle\" x=\"47\" y=\"-2367.8\" font-family=\"Times,serif\" font-size=\"14.00\">3x3/1x1, 256</text>\n",
       "</g>\n",
       "<!-- hybridsequential0_conv9_fwd&#45;&gt;hybridsequential0_conv8_relu_fwd -->\n",
       "<g id=\"edge25\" class=\"edge\"><title>hybridsequential0_conv9_fwd&#45;&gt;hybridsequential0_conv8_relu_fwd</title>\n",
       "<path fill=\"none\" stroke=\"black\" d=\"M47,-2339.74C47,-2331.2 47,-2322.3 47,-2314.25\"/>\n",
       "<polygon fill=\"black\" stroke=\"black\" points=\"47,-2349.9 42.5001,-2339.9 47,-2344.9 47.0001,-2339.9 47.0001,-2339.9 47.0001,-2339.9 47,-2344.9 51.5001,-2339.9 47,-2349.9 47,-2349.9\"/>\n",
       "</g>\n",
       "<!-- hybridsequential0_conv9_relu_fwd -->\n",
       "<g id=\"node27\" class=\"node\"><title>hybridsequential0_conv9_relu_fwd</title>\n",
       "<polygon fill=\"#ffffb3\" stroke=\"black\" points=\"94,-2502 -7.10543e-15,-2502 -7.10543e-15,-2444 94,-2444 94,-2502\"/>\n",
       "<text text-anchor=\"middle\" x=\"47\" y=\"-2476.8\" font-family=\"Times,serif\" font-size=\"14.00\">Activation</text>\n",
       "<text text-anchor=\"middle\" x=\"47\" y=\"-2461.8\" font-family=\"Times,serif\" font-size=\"14.00\">relu</text>\n",
       "</g>\n",
       "<!-- hybridsequential0_conv9_relu_fwd&#45;&gt;hybridsequential0_conv9_fwd -->\n",
       "<g id=\"edge26\" class=\"edge\"><title>hybridsequential0_conv9_relu_fwd&#45;&gt;hybridsequential0_conv9_fwd</title>\n",
       "<path fill=\"none\" stroke=\"black\" d=\"M47,-2433.74C47,-2425.2 47,-2416.3 47,-2408.25\"/>\n",
       "<polygon fill=\"black\" stroke=\"black\" points=\"47,-2443.9 42.5001,-2433.9 47,-2438.9 47.0001,-2433.9 47.0001,-2433.9 47.0001,-2433.9 47,-2438.9 51.5001,-2433.9 47,-2443.9 47,-2443.9\"/>\n",
       "</g>\n",
       "<!-- hybridsequential0_pool3_fwd -->\n",
       "<g id=\"node28\" class=\"node\"><title>hybridsequential0_pool3_fwd</title>\n",
       "<polygon fill=\"#80b1d3\" stroke=\"black\" points=\"94,-2596 -7.10543e-15,-2596 -7.10543e-15,-2538 94,-2538 94,-2596\"/>\n",
       "<text text-anchor=\"middle\" x=\"47\" y=\"-2570.8\" font-family=\"Times,serif\" font-size=\"14.00\">Pooling</text>\n",
       "<text text-anchor=\"middle\" x=\"47\" y=\"-2555.8\" font-family=\"Times,serif\" font-size=\"14.00\">max, 2x2/2x2</text>\n",
       "</g>\n",
       "<!-- hybridsequential0_pool3_fwd&#45;&gt;hybridsequential0_conv9_relu_fwd -->\n",
       "<g id=\"edge27\" class=\"edge\"><title>hybridsequential0_pool3_fwd&#45;&gt;hybridsequential0_conv9_relu_fwd</title>\n",
       "<path fill=\"none\" stroke=\"black\" d=\"M47,-2527.74C47,-2519.2 47,-2510.3 47,-2502.25\"/>\n",
       "<polygon fill=\"black\" stroke=\"black\" points=\"47,-2537.9 42.5001,-2527.9 47,-2532.9 47.0001,-2527.9 47.0001,-2527.9 47.0001,-2527.9 47,-2532.9 51.5001,-2527.9 47,-2537.9 47,-2537.9\"/>\n",
       "</g>\n",
       "<!-- hybridsequential0_dropout3_fwd -->\n",
       "<g id=\"node29\" class=\"node\"><title>hybridsequential0_dropout3_fwd</title>\n",
       "<polygon fill=\"#fccde5\" stroke=\"black\" points=\"94,-2690 -7.10543e-15,-2690 -7.10543e-15,-2632 94,-2632 94,-2690\"/>\n",
       "<text text-anchor=\"middle\" x=\"47\" y=\"-2657.3\" font-family=\"Times,serif\" font-size=\"14.00\">hybridsequential0_dropout3_fwd</text>\n",
       "</g>\n",
       "<!-- hybridsequential0_dropout3_fwd&#45;&gt;hybridsequential0_pool3_fwd -->\n",
       "<g id=\"edge28\" class=\"edge\"><title>hybridsequential0_dropout3_fwd&#45;&gt;hybridsequential0_pool3_fwd</title>\n",
       "<path fill=\"none\" stroke=\"black\" d=\"M47,-2621.74C47,-2613.2 47,-2604.3 47,-2596.25\"/>\n",
       "<polygon fill=\"black\" stroke=\"black\" points=\"47,-2631.9 42.5001,-2621.9 47,-2626.9 47.0001,-2621.9 47.0001,-2621.9 47.0001,-2621.9 47,-2626.9 51.5001,-2621.9 47,-2631.9 47,-2631.9\"/>\n",
       "</g>\n",
       "<!-- hybridsequential0_flatten0_reshape0 -->\n",
       "<g id=\"node30\" class=\"node\"><title>hybridsequential0_flatten0_reshape0</title>\n",
       "<polygon fill=\"#fdb462\" stroke=\"black\" points=\"94,-2784 -7.10543e-15,-2784 -7.10543e-15,-2726 94,-2726 94,-2784\"/>\n",
       "<text text-anchor=\"middle\" x=\"47\" y=\"-2751.3\" font-family=\"Times,serif\" font-size=\"14.00\">hybridsequential0_flatten0_reshape0</text>\n",
       "</g>\n",
       "<!-- hybridsequential0_flatten0_reshape0&#45;&gt;hybridsequential0_dropout3_fwd -->\n",
       "<g id=\"edge29\" class=\"edge\"><title>hybridsequential0_flatten0_reshape0&#45;&gt;hybridsequential0_dropout3_fwd</title>\n",
       "<path fill=\"none\" stroke=\"black\" d=\"M47,-2715.74C47,-2707.2 47,-2698.3 47,-2690.25\"/>\n",
       "<polygon fill=\"black\" stroke=\"black\" points=\"47,-2725.9 42.5001,-2715.9 47,-2720.9 47.0001,-2715.9 47.0001,-2715.9 47.0001,-2715.9 47,-2720.9 51.5001,-2715.9 47,-2725.9 47,-2725.9\"/>\n",
       "</g>\n",
       "<!-- hybridsequential0_dense0_fwd -->\n",
       "<g id=\"node31\" class=\"node\"><title>hybridsequential0_dense0_fwd</title>\n",
       "<polygon fill=\"#fb8072\" stroke=\"black\" points=\"94,-2878 -7.10543e-15,-2878 -7.10543e-15,-2820 94,-2820 94,-2878\"/>\n",
       "<text text-anchor=\"middle\" x=\"47\" y=\"-2852.8\" font-family=\"Times,serif\" font-size=\"14.00\">FullyConnected</text>\n",
       "<text text-anchor=\"middle\" x=\"47\" y=\"-2837.8\" font-family=\"Times,serif\" font-size=\"14.00\">1024</text>\n",
       "</g>\n",
       "<!-- hybridsequential0_dense0_fwd&#45;&gt;hybridsequential0_flatten0_reshape0 -->\n",
       "<g id=\"edge30\" class=\"edge\"><title>hybridsequential0_dense0_fwd&#45;&gt;hybridsequential0_flatten0_reshape0</title>\n",
       "<path fill=\"none\" stroke=\"black\" d=\"M47,-2809.74C47,-2801.2 47,-2792.3 47,-2784.25\"/>\n",
       "<polygon fill=\"black\" stroke=\"black\" points=\"47,-2819.9 42.5001,-2809.9 47,-2814.9 47.0001,-2809.9 47.0001,-2809.9 47.0001,-2809.9 47,-2814.9 51.5001,-2809.9 47,-2819.9 47,-2819.9\"/>\n",
       "</g>\n",
       "<!-- hybridsequential0_dense0_relu_fwd -->\n",
       "<g id=\"node32\" class=\"node\"><title>hybridsequential0_dense0_relu_fwd</title>\n",
       "<polygon fill=\"#ffffb3\" stroke=\"black\" points=\"94,-2972 -7.10543e-15,-2972 -7.10543e-15,-2914 94,-2914 94,-2972\"/>\n",
       "<text text-anchor=\"middle\" x=\"47\" y=\"-2946.8\" font-family=\"Times,serif\" font-size=\"14.00\">Activation</text>\n",
       "<text text-anchor=\"middle\" x=\"47\" y=\"-2931.8\" font-family=\"Times,serif\" font-size=\"14.00\">relu</text>\n",
       "</g>\n",
       "<!-- hybridsequential0_dense0_relu_fwd&#45;&gt;hybridsequential0_dense0_fwd -->\n",
       "<g id=\"edge31\" class=\"edge\"><title>hybridsequential0_dense0_relu_fwd&#45;&gt;hybridsequential0_dense0_fwd</title>\n",
       "<path fill=\"none\" stroke=\"black\" d=\"M47,-2903.74C47,-2895.2 47,-2886.3 47,-2878.25\"/>\n",
       "<polygon fill=\"black\" stroke=\"black\" points=\"47,-2913.9 42.5001,-2903.9 47,-2908.9 47.0001,-2903.9 47.0001,-2903.9 47.0001,-2903.9 47,-2908.9 51.5001,-2903.9 47,-2913.9 47,-2913.9\"/>\n",
       "</g>\n",
       "<!-- hybridsequential0_dropout4_fwd -->\n",
       "<g id=\"node33\" class=\"node\"><title>hybridsequential0_dropout4_fwd</title>\n",
       "<polygon fill=\"#fccde5\" stroke=\"black\" points=\"94,-3066 -7.10543e-15,-3066 -7.10543e-15,-3008 94,-3008 94,-3066\"/>\n",
       "<text text-anchor=\"middle\" x=\"47\" y=\"-3033.3\" font-family=\"Times,serif\" font-size=\"14.00\">hybridsequential0_dropout4_fwd</text>\n",
       "</g>\n",
       "<!-- hybridsequential0_dropout4_fwd&#45;&gt;hybridsequential0_dense0_relu_fwd -->\n",
       "<g id=\"edge32\" class=\"edge\"><title>hybridsequential0_dropout4_fwd&#45;&gt;hybridsequential0_dense0_relu_fwd</title>\n",
       "<path fill=\"none\" stroke=\"black\" d=\"M47,-2997.74C47,-2989.2 47,-2980.3 47,-2972.25\"/>\n",
       "<polygon fill=\"black\" stroke=\"black\" points=\"47,-3007.9 42.5001,-2997.9 47,-3002.9 47.0001,-2997.9 47.0001,-2997.9 47.0001,-2997.9 47,-3002.9 51.5001,-2997.9 47,-3007.9 47,-3007.9\"/>\n",
       "</g>\n",
       "<!-- hybridsequential0_dense1_fwd -->\n",
       "<g id=\"node34\" class=\"node\"><title>hybridsequential0_dense1_fwd</title>\n",
       "<polygon fill=\"#fb8072\" stroke=\"black\" points=\"94,-3160 -7.10543e-15,-3160 -7.10543e-15,-3102 94,-3102 94,-3160\"/>\n",
       "<text text-anchor=\"middle\" x=\"47\" y=\"-3134.8\" font-family=\"Times,serif\" font-size=\"14.00\">FullyConnected</text>\n",
       "<text text-anchor=\"middle\" x=\"47\" y=\"-3119.8\" font-family=\"Times,serif\" font-size=\"14.00\">1024</text>\n",
       "</g>\n",
       "<!-- hybridsequential0_dense1_fwd&#45;&gt;hybridsequential0_dropout4_fwd -->\n",
       "<g id=\"edge33\" class=\"edge\"><title>hybridsequential0_dense1_fwd&#45;&gt;hybridsequential0_dropout4_fwd</title>\n",
       "<path fill=\"none\" stroke=\"black\" d=\"M47,-3091.74C47,-3083.2 47,-3074.3 47,-3066.25\"/>\n",
       "<polygon fill=\"black\" stroke=\"black\" points=\"47,-3101.9 42.5001,-3091.9 47,-3096.9 47.0001,-3091.9 47.0001,-3091.9 47.0001,-3091.9 47,-3096.9 51.5001,-3091.9 47,-3101.9 47,-3101.9\"/>\n",
       "</g>\n",
       "<!-- hybridsequential0_dense1_relu_fwd -->\n",
       "<g id=\"node35\" class=\"node\"><title>hybridsequential0_dense1_relu_fwd</title>\n",
       "<polygon fill=\"#ffffb3\" stroke=\"black\" points=\"94,-3254 -7.10543e-15,-3254 -7.10543e-15,-3196 94,-3196 94,-3254\"/>\n",
       "<text text-anchor=\"middle\" x=\"47\" y=\"-3228.8\" font-family=\"Times,serif\" font-size=\"14.00\">Activation</text>\n",
       "<text text-anchor=\"middle\" x=\"47\" y=\"-3213.8\" font-family=\"Times,serif\" font-size=\"14.00\">relu</text>\n",
       "</g>\n",
       "<!-- hybridsequential0_dense1_relu_fwd&#45;&gt;hybridsequential0_dense1_fwd -->\n",
       "<g id=\"edge34\" class=\"edge\"><title>hybridsequential0_dense1_relu_fwd&#45;&gt;hybridsequential0_dense1_fwd</title>\n",
       "<path fill=\"none\" stroke=\"black\" d=\"M47,-3185.74C47,-3177.2 47,-3168.3 47,-3160.25\"/>\n",
       "<polygon fill=\"black\" stroke=\"black\" points=\"47,-3195.9 42.5001,-3185.9 47,-3190.9 47.0001,-3185.9 47.0001,-3185.9 47.0001,-3185.9 47,-3190.9 51.5001,-3185.9 47,-3195.9 47,-3195.9\"/>\n",
       "</g>\n",
       "<!-- hybridsequential0_dropout5_fwd -->\n",
       "<g id=\"node36\" class=\"node\"><title>hybridsequential0_dropout5_fwd</title>\n",
       "<polygon fill=\"#fccde5\" stroke=\"black\" points=\"94,-3348 -7.10543e-15,-3348 -7.10543e-15,-3290 94,-3290 94,-3348\"/>\n",
       "<text text-anchor=\"middle\" x=\"47\" y=\"-3315.3\" font-family=\"Times,serif\" font-size=\"14.00\">hybridsequential0_dropout5_fwd</text>\n",
       "</g>\n",
       "<!-- hybridsequential0_dropout5_fwd&#45;&gt;hybridsequential0_dense1_relu_fwd -->\n",
       "<g id=\"edge35\" class=\"edge\"><title>hybridsequential0_dropout5_fwd&#45;&gt;hybridsequential0_dense1_relu_fwd</title>\n",
       "<path fill=\"none\" stroke=\"black\" d=\"M47,-3279.74C47,-3271.2 47,-3262.3 47,-3254.25\"/>\n",
       "<polygon fill=\"black\" stroke=\"black\" points=\"47,-3289.9 42.5001,-3279.9 47,-3284.9 47.0001,-3279.9 47.0001,-3279.9 47.0001,-3279.9 47,-3284.9 51.5001,-3279.9 47,-3289.9 47,-3289.9\"/>\n",
       "</g>\n",
       "<!-- hybridsequential0_dense2_fwd -->\n",
       "<g id=\"node37\" class=\"node\"><title>hybridsequential0_dense2_fwd</title>\n",
       "<polygon fill=\"#fb8072\" stroke=\"black\" points=\"94,-3442 -7.10543e-15,-3442 -7.10543e-15,-3384 94,-3384 94,-3442\"/>\n",
       "<text text-anchor=\"middle\" x=\"47\" y=\"-3416.8\" font-family=\"Times,serif\" font-size=\"14.00\">FullyConnected</text>\n",
       "<text text-anchor=\"middle\" x=\"47\" y=\"-3401.8\" font-family=\"Times,serif\" font-size=\"14.00\">8</text>\n",
       "</g>\n",
       "<!-- hybridsequential0_dense2_fwd&#45;&gt;hybridsequential0_dropout5_fwd -->\n",
       "<g id=\"edge36\" class=\"edge\"><title>hybridsequential0_dense2_fwd&#45;&gt;hybridsequential0_dropout5_fwd</title>\n",
       "<path fill=\"none\" stroke=\"black\" d=\"M47,-3373.74C47,-3365.2 47,-3356.3 47,-3348.25\"/>\n",
       "<polygon fill=\"black\" stroke=\"black\" points=\"47,-3383.9 42.5001,-3373.9 47,-3378.9 47.0001,-3373.9 47.0001,-3373.9 47.0001,-3373.9 47,-3378.9 51.5001,-3373.9 47,-3383.9 47,-3383.9\"/>\n",
       "</g>\n",
       "</g>\n",
       "</svg>\n"
      ],
      "text/plain": [
       "<graphviz.dot.Digraph at 0x7fc60daaaef0>"
      ]
     },
     "execution_count": 14,
     "metadata": {},
     "output_type": "execute_result"
    }
   ],
   "source": [
    "# Use MXBOARD here to visualize network\n",
    "x = mx.sym.var('data')\n",
    "sym = net(x)\n",
    "mx.viz.plot_network(sym)\n"
   ]
  },
  {
   "cell_type": "markdown",
   "metadata": {},
   "source": [
    "# Step 3 – Prepare the Trainer with optimizer"
   ]
  },
  {
   "cell_type": "code",
   "execution_count": 15,
   "metadata": {},
   "outputs": [],
   "source": [
    "softmax_cross_entropy = gluon.loss.SoftmaxCrossEntropyLoss()"
   ]
  },
  {
   "cell_type": "code",
   "execution_count": 16,
   "metadata": {},
   "outputs": [],
   "source": [
    "batch_size = 32\n",
    "trainer = gluon.Trainer(net.collect_params(), 'sgd', {'learning_rate': 0.0025, 'momentum': 0.9})"
   ]
  },
  {
   "cell_type": "markdown",
   "metadata": {},
   "source": [
    "# Step 4 – Prepare the model evaluation strategy"
   ]
  },
  {
   "cell_type": "code",
   "execution_count": 17,
   "metadata": {},
   "outputs": [],
   "source": [
    "def evaluate_accuracy(data_iterator, net):\n",
    "    acc = mx.metric.Accuracy()\n",
    "    for i, (data, label) in enumerate(data_iterator):\n",
    "        data = data.as_in_context(ctx)\n",
    "        label = label.as_in_context(ctx)\n",
    "        output = net(data)\n",
    "        predictions = nd.argmax(output, axis=1)\n",
    "        acc.update(preds=predictions, labels=label)\n",
    "    return acc.get()[1]"
   ]
  },
  {
   "cell_type": "markdown",
   "metadata": {},
   "source": [
    "# Step 5 – Prepare data loaders"
   ]
  },
  {
   "cell_type": "code",
   "execution_count": 18,
   "metadata": {},
   "outputs": [],
   "source": [
    "train_labels = np.argmax(processed_train_labels, axis=1)\n",
    "val_labels = np.argmax(processed_val_labels, axis=1)\n",
    "\n",
    "train_data = gluon.data.DataLoader(gluon.data.ArrayDataset(processed_train_images, train_labels), batch_size = batch_size, shuffle=True)\n",
    "val_data = gluon.data.DataLoader(gluon.data.ArrayDataset(processed_val_images, val_labels), batch_size = batch_size)"
   ]
  },
  {
   "cell_type": "markdown",
   "metadata": {},
   "source": [
    "\n",
    "# Step 6 – Train the Neural Network"
   ]
  },
  {
   "cell_type": "code",
   "execution_count": 19,
   "metadata": {},
   "outputs": [
    {
     "name": "stdout",
     "output_type": "stream",
     "text": [
      "Epoch 0. Loss: 1.53916, Train_acc 0.348692353763, Val_acc 0.369790034472\n",
      "Epoch 1. Loss: 1.66221, Train_acc 0.384627670194, Val_acc 0.387652773425\n",
      "Epoch 2. Loss: 1.39836, Train_acc 0.399401078059, Val_acc 0.402381698527\n",
      "Epoch 3. Loss: 1.52955, Train_acc 0.461768816131, Val_acc 0.482607333124\n",
      "Epoch 4. Loss: 1.40021, Train_acc 0.514154521861, Val_acc 0.528674396741\n",
      "Epoch 5. Loss: 1.67981, Train_acc 0.56027151128, Val_acc 0.571921027891\n",
      "Epoch 6. Loss: 1.30359, Train_acc 0.617248951887, Val_acc 0.632090253839\n",
      "Epoch 7. Loss: 1.00052, Train_acc 0.666200838491, Val_acc 0.683798182388\n",
      "Epoch 8. Loss: 0.847253, Train_acc 0.694270313436, Val_acc 0.707615167659\n",
      "Epoch 9. Loss: 1.05446, Train_acc 0.713835096826, Val_acc 0.715763083673\n",
      "Epoch 10. Loss: 0.860204, Train_acc 0.732241964464, Val_acc 0.734565966782\n",
      "Epoch 11. Loss: 0.632866, Train_acc 0.75016969455, Val_acc 0.740206831714\n",
      "Epoch 12. Loss: 0.545957, Train_acc 0.760670792573, Val_acc 0.737386399248\n",
      "Epoch 13. Loss: 0.79762, Train_acc 0.77915751647, Val_acc 0.759009714823\n",
      "Epoch 14. Loss: 0.724591, Train_acc 0.771690956279, Val_acc 0.763397054215\n",
      "Epoch 15. Loss: 0.734677, Train_acc 0.802395687762, Val_acc 0.768097774992\n",
      "Epoch 16. Loss: 0.560237, Train_acc 0.823717308844, Val_acc 0.774992165465\n",
      "Epoch 17. Loss: 0.436464, Train_acc 0.843681373528, Val_acc 0.772798495769\n",
      "Epoch 18. Loss: 0.728516, Train_acc 0.854501896586, Val_acc 0.793795048574\n",
      "Epoch 19. Loss: 0.469134, Train_acc 0.861529247355, Val_acc 0.788780946412\n",
      "Epoch 20. Loss: 0.303409, Train_acc 0.883369934119, Val_acc 0.798182387966\n",
      "Epoch 21. Loss: 0.135282, Train_acc 0.876741864644, Val_acc 0.79473519273\n",
      "Epoch 22. Loss: 0.241886, Train_acc 0.911199840287, Val_acc 0.800376057662\n",
      "Epoch 23. Loss: 0.641215, Train_acc 0.911359552805, Val_acc 0.800689439047\n",
      "Epoch 24. Loss: 0.720404, Train_acc 0.919944100619, Val_acc 0.795675336885\n"
     ]
    }
   ],
   "source": [
    "epochs = 25\n",
    "\n",
    "train_accuracies = []\n",
    "losses = []\n",
    "val_accuracies = []\n",
    "\n",
    "for e in range(epochs):\n",
    "    batch = 0\n",
    "    for i, (data, label) in enumerate(train_data):\n",
    "        data = data.as_in_context(ctx)\n",
    "        label = label.as_in_context(ctx)\n",
    "        with autograd.record():\n",
    "            output = net(data)\n",
    "            loss = softmax_cross_entropy(output, label)\n",
    "            \n",
    "        loss.backward()\n",
    "        trainer.step(data.shape[0])\n",
    "        curr_loss = nd.mean(loss).asscalar()\n",
    "        batch +=1        \n",
    "\n",
    "    val_accuracy = evaluate_accuracy(val_data, net)\n",
    "    train_accuracy = evaluate_accuracy(train_data, net)\n",
    "    \n",
    "    losses.append(curr_loss)\n",
    "    train_accuracies.append(train_accuracy)\n",
    "    val_accuracies.append(val_accuracy)\n",
    "    \n",
    "    print(\"Epoch %s. Loss: %s, Train_acc %s, Val_acc %s\" % (e, curr_loss, train_accuracy, val_accuracy))"
   ]
  },
  {
   "cell_type": "markdown",
   "metadata": {},
   "source": [
    "# Step 7 - Evaluate on Test Data"
   ]
  },
  {
   "cell_type": "code",
   "execution_count": 20,
   "metadata": {},
   "outputs": [
    {
     "name": "stdout",
     "output_type": "stream",
     "text": [
      "Test Accuracy -  0.807778131973\n"
     ]
    }
   ],
   "source": [
    "# Test accuracy\n",
    "\n",
    "acc = mx.metric.Accuracy()\n",
    "test_labels = np.argmax(processed_test_labels, axis=1)\n",
    "data_iterator = gluon.data.DataLoader(gluon.data.ArrayDataset(processed_test_images, test_labels), batch_size = 32)\n",
    "for i, (data, label) in enumerate(data_iterator):\n",
    "    data = data.as_in_context(ctx)\n",
    "    label = label.as_in_context(ctx)\n",
    "    output = net(data)\n",
    "    predictions = nd.argmax(output, axis=1)\n",
    "    acc.update(preds=predictions, labels=label)\n",
    "print(\"Test Accuracy - \", acc.get()[1])"
   ]
  },
  {
   "cell_type": "code",
   "execution_count": 21,
   "metadata": {},
   "outputs": [
    {
     "data": {
      "text/plain": [
       "<matplotlib.legend.Legend at 0x7fc6182e05f8>"
      ]
     },
     "execution_count": 21,
     "metadata": {},
     "output_type": "execute_result"
    },
    {
     "data": {
      "image/png": "[encoded data removed]",
      "text/plain": [
       "<Figure size 864x432 with 2 Axes>"
      ]
     },
     "metadata": {},
     "output_type": "display_data"
    }
   ],
   "source": [
    "# for plotting purposes\n",
    "%matplotlib inline\n",
    "import matplotlib\n",
    "import matplotlib.pyplot as plt\n",
    "\n",
    "epochs = range(len(train_accuracies))\n",
    "\n",
    "f = plt.figure(figsize=(12,6))\n",
    "fg1 = f.add_subplot(121)\n",
    "fg2 = f.add_subplot(122)\n",
    "\n",
    "fg1.set_xlabel('epoch',fontsize=14)  \n",
    "fg1.set_title('Loss over Training')\n",
    "fg1.grid(True, which=\"both\")\n",
    "fg1.plot(epochs, losses)\n",
    "\n",
    "fg2.set_title('Comparing accuracy')\n",
    "fg2.set_xlabel('epoch', fontsize=14)\n",
    "fg2.grid(True, which=\"both\")\n",
    "\n",
    "p1, = fg2.plot(epochs, train_accuracies)\n",
    "p2, = fg2.plot(epochs, val_accuracies)\n",
    "fg2.legend([p1, p2], ['training accuracy', 'validation accuracy'],fontsize=14)"
   ]
  },
  {
   "cell_type": "code",
   "execution_count": 26,
   "metadata": {},
   "outputs": [
    {
     "data": {
      "text/plain": [
       "<matplotlib.image.AxesImage at 0x7fc615186c50>"
      ]
     },
     "execution_count": 26,
     "metadata": {},
     "output_type": "execute_result"
    },
    {
     "data": {
      "image/png": "[encoded data removed]",
      "text/plain": [
       "<Figure size 432x288 with 1 Axes>"
      ]
     },
     "metadata": {},
     "output_type": "display_data"
    }
   ],
   "source": [
    "# Example Inference\n",
    "idx = 98\n",
    "plt.imshow(processed_test_images[idx].reshape(64,64), cmap='gray')"
   ]
  },
  {
   "cell_type": "code",
   "execution_count": 27,
   "metadata": {},
   "outputs": [
    {
     "name": "stdout",
     "output_type": "stream",
     "text": [
      "Actual Emotion -  happiness\n"
     ]
    }
   ],
   "source": [
    "print(\"Actual Emotion - \", emotion_table[test_labels[idx]])"
   ]
  },
  {
   "cell_type": "code",
   "execution_count": 28,
   "metadata": {},
   "outputs": [],
   "source": [
    "# Perform Inference\n",
    "output = net(mx.nd.array(processed_test_images[idx].reshape(1,1,64,64)).as_in_context(ctx))"
   ]
  },
  {
   "cell_type": "code",
   "execution_count": 29,
   "metadata": {},
   "outputs": [
    {
     "name": "stdout",
     "output_type": "stream",
     "text": [
      "Predicted Emotion -  happiness\n"
     ]
    }
   ],
   "source": [
    "print(\"Predicted Emotion - \", emotion_table[nd.argmax(output, axis=1).asnumpy()[0]])"
   ]
  },
  {
   "cell_type": "markdown",
   "metadata": {},
   "source": [
    "![image.png](../assets/inference_wf.png)"
   ]
  },
  {
   "cell_type": "markdown",
   "metadata": {},
   "source": [
    "# Step 8 - Export the model for Production"
   ]
  },
  {
   "cell_type": "code",
   "execution_count": 30,
   "metadata": {},
   "outputs": [],
   "source": [
    "# Export the model for production deployment.\n",
    "# There will be 2 files exported: \n",
    "# 1) gluon_ferplus-symbol.json => Contains the network definition\n",
    "# 2) gluon_ferplus-0000.params => Contains the weights in the network\n",
    "net.export('fer')"
   ]
  },
  {
   "cell_type": "markdown",
   "metadata": {},
   "source": [
    "# Step 9 - Install pre-requisites for model serving\n",
    "\n",
    "We will need the PyPi packages listed below to test model server locally, and to perform image pre-processing prior to the model inference."
   ]
  },
  {
   "cell_type": "code",
   "execution_count": null,
   "metadata": {},
   "outputs": [],
   "source": [
    "!pip install mxnet-model-server\n",
    "!pip install model-archiver\n",
    "!pip install scikit-image\n",
    "!pip install opencv-python"
   ]
  },
  {
   "cell_type": "markdown",
   "metadata": {},
   "source": [
    "# Step 10 - Export a model archive\n",
    "\n",
    "We will now prepare the model archive, which encapsulates all of the resources required by MMS for serving the model. To learn more about the model archive, visit [MMS Export docs](https://github.com/awslabs/mxnet-model-server/blob/master/docs/export.md)."
   ]
  },
  {
   "cell_type": "code",
   "execution_count": null,
   "metadata": {},
   "outputs": [],
   "source": [
    "# As a first step, we will download the pre-trained model. \n",
    "# You can skip this step if you have just trained your model, but then you will need to copy the model files into ferplus directory\n",
    "!mkdir fer\n",
    "%cd fer\n",
    "!curl -O https://s3.amazonaws.com/mxnet-demo-models/models/fer/fer-0000.params\n",
    "!curl -O https://s3.amazonaws.com/mxnet-demo-models/models/fer/fer-symbol.json"
   ]
  },
  {
   "cell_type": "code",
   "execution_count": 2,
   "metadata": {},
   "outputs": [],
   "source": [
    "# Now let's pull in and review the other resources needed for the model archive\n",
    "%cp ../../model_archive_resources/* ."
   ]
  },
  {
   "cell_type": "code",
   "execution_count": null,
   "metadata": {},
   "outputs": [],
   "source": [
    "# We define the model's input and output type and shape via signature.json\n",
    "!cat signature.json"
   ]
  },
  {
   "cell_type": "code",
   "execution_count": null,
   "metadata": {},
   "outputs": [],
   "source": [
    "# We define the model's class label names via synset.txt\n",
    "!cat synset.txt"
   ]
  },
  {
   "cell_type": "code",
   "execution_count": null,
   "metadata": {},
   "outputs": [],
   "source": [
    "# And lastly, we define custom code for request handling via python code other auxiliary files\n",
    "!cat fer_service.py"
   ]
  },
  {
   "cell_type": "code",
   "execution_count": null,
   "metadata": {},
   "outputs": [],
   "source": [
    "# Let's package everything up into a Model Archive bundle\n",
    "% cd ..\n",
    "!model-archiver --model-name fer --model-path ./fer --handler fer_service:handle\n",
    "!ls -l fer.mar"
   ]
  },
  {
   "cell_type": "markdown",
   "metadata": {},
   "source": [
    "# Step 11 - Serving the model archive with MXNet Model Server\n",
    "\n",
    "Now that we have the model archive ready, we can start the server and ask it to setup HTTP endpoints to serve the model, emit real-time operational metrics and more.\n",
    "To learn more about serving, check out the [MMS Serving docs](https://github.com/awslabs/mxnet-model-server/blob/master/docs/server.md).\n",
    "\n",
    "To start the server and load the FER model on startup, go to the console and run:  \n",
    "`\n",
    "$ mxnet-model-server --models fer=fer.mar --model-store .\n",
    "`"
   ]
  },
  {
   "cell_type": "code",
   "execution_count": null,
   "metadata": {},
   "outputs": [],
   "source": [
    "# Check out the health endpoint to make sure model server is running\n",
    "!curl http://127.0.0.1:8080/ping"
   ]
  },
  {
   "cell_type": "code",
   "execution_count": null,
   "metadata": {},
   "outputs": [],
   "source": [
    "# Call MMS management API to see list of loaded models\n",
    "!curl http://localhost:8081/models"
   ]
  },
  {
   "cell_type": "code",
   "execution_count": null,
   "metadata": {},
   "outputs": [],
   "source": [
    "# Query the loaded FER model\n",
    "!curl http://localhost:8081/models/fer"
   ]
  },
  {
   "cell_type": "markdown",
   "metadata": {},
   "source": [
    "Now let's make a prediction request with a test image:\n",
    "![Neutral](../assets/neutral-sad.png)"
   ]
  },
  {
   "cell_type": "code",
   "execution_count": null,
   "metadata": {},
   "outputs": [],
   "source": [
    "!curl -X POST http://127.0.0.1:8080/fer/predict -T \"../assets/neutral-sad.png\""
   ]
  },
  {
   "cell_type": "markdown",
   "metadata": {},
   "source": [
    "Lastly, to stop the server we will go to the console and run:  \n",
    "`\n",
    "$ mxnet-model-server --stop\n",
    "`"
   ]
  },
  {
   "cell_type": "markdown",
   "metadata": {},
   "source": [
    "# References\n",
    "1. I. J. Goodfellow, D. Erhan, P. L. Carrier, A. Courville,\n",
    "M. Mirza, B. Hamner, W. Cukierski, Y. Tang,\n",
    "D. Thaler, D.-H. Lee, et al. Challenges in\n",
    "representation learning: A report on three machine\n",
    "learning contests. In Neural information processing,\n",
    "pages 117–124. Springer, 2013\n",
    "\n",
    "2. Training Deep Networks for Facial Expression Recognition with Crowd-Sourced Label Distribution Emad Barsoum et. al. https://arxiv.org/abs/1608.01041\n"
   ]
  }
 ],
 "metadata": {
  "kernelspec": {
   "display_name": "Python 3",
   "language": "python",
   "name": "python3"
  },
  "language_info": {
   "codemirror_mode": {
    "name": "ipython",
    "version": 3
   },
   "file_extension": ".py",
   "mimetype": "text/x-python",
   "name": "python",
   "nbconvert_exporter": "python",
   "pygments_lexer": "ipython3",
   "version": "3.6.4"
  }
 },
 "nbformat": 4,
 "nbformat_minor": 2
}
